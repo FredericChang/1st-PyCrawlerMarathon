{
 "cells": [
  {
   "cell_type": "markdown",
   "metadata": {},
   "source": [
    "# 其他工具：Grab、PyQuery\n",
    "\n",
    "\n",
    "* 利用 Grab 套件的存取 HTML 資源\n",
    "* 利用 PyQuery 套件的解析 HTML 格式\n"
   ]
  },
  {
   "cell_type": "markdown",
   "metadata": {},
   "source": [
    "## 作業目標\n",
    "\n",
    "將之前用 requests + beatifulsoup 實作的方式，改寫成 grab + pyquery，並且比較有哪些地方不同。\n",
    "\n",
    "\n",
    "\n"
   ]
  },
  {
   "cell_type": "markdown",
   "metadata": {},
   "source": [
    "## requests + BeautifulSoup\n"
   ]
  },
  {
   "cell_type": "code",
   "execution_count": 43,
   "metadata": {},
   "outputs": [],
   "source": [
    "import requests\n",
    "from bs4 import BeautifulSoup\n",
    "from grab import Grab as g\n",
    "from pyquery import PyQuery as pq\n",
    "\n",
    "url = 'https://google.com'"
   ]
  },
  {
   "cell_type": "markdown",
   "metadata": {},
   "source": [
    "## Grab + PyQuery"
   ]
  },
  {
   "cell_type": "code",
   "execution_count": 44,
   "metadata": {
    "scrolled": false
   },
   "outputs": [
    {
     "name": "stdout",
     "output_type": "stream",
     "text": [
      "<!DOCTYPE html>\n",
      "<html itemscope=\"\" itemtype=\"http://schema.org/WebPage\" lang=\"zh-TW\"><head><meta content=\"text/html; charset=utf-8\" http-equiv=\"Content-Type\"/><meta content=\"/images/branding/googleg/1x/googleg_standard_color_128dp.png\" itemprop=\"image\"/><title>Google</title><script nonce=\"MswN+Ev//pqKrF6YoJDbWg==\">(function(){window.google={kEI:'_0H_Xb-yOoy0mAW197m4Dg',kEXPI:'0,1353747,5662,730,224,3656,1071,378,206,467,2488,249,10,713,338,175,364,1154,3,278,4,60,6,309,635,10,400,1129068,143,1197786,363,38,329080,1294,12383,4855,32692,15247,867,28684,369,3314,5505,8384,1699,3159,1362,284,4040,4967,773,2256,7858,6194,1719,1808,1976,10954,5296,2054,918,875,1217,2975,2736,49,3645,11306,2884,20,318,1980,2167,1,150,1,221,2774,520,399,992,1285,9,569,2226,967,612,14,1279,2212,202,328,149,1103,840,518,316,822,1,278,48,8,48,820,3438,260,52,1137,2,2669,1839,184,546,49,1182,520,258,1447,242,747,219,210,44,1009,95,326,1284,16,84,417,2426,1425,214,608,473,1339,748,1039,3094,133,773,1548,524,7,728,591,1575,3394,1345,3,6510,1494,1338,258,214,367,59,300,682,1042,2458,273,953,496,966,842,1228,1864,1275,108,1246,26,1001,654,481,808,99,2,318,115,507,514,201,256,118,7,1153,366,127,626,132,989,523,361,447,707,10,275,2,151,583,457,303,1191,469,55,47,308,53,63,1158,820,849,66,1,109,10,2,17,71,74,138,333,109,373,959,523,230,781,189,6,15,183,92,478,91,251,15,62,386,675,25,760,22,82,38,419,1027,156,5859137,1805894,4194851,2801171,549,333,444,1,2,80,1,900,896,1,8,1,2,2551,1,748,141,795,10,553,1,4265,1,1,1,1,137,1,783,5,2,12,77,8,1,14,5,2,3,3,1,3,5,3,3,3,3,3,1,3,3,3,3,25,11,1,3,1,4,1,6,2,1,1,5,7,2,6,2,10,20,2,2,2,2,10,3,2,2,2,21,27,2,2,23964457',authuser:0,kscs:'c9c918f0__0H_Xb-yOoy0mAW197m4Dg',kGL:'TW',kBL:'v77x'};google.sn='webhp';google.kHL='zh-TW';google.jsfs='Ffpdje';})();(function(){google.lc=[];google.li=0;google.getEI=function(a){for(var b;a&&(!a.getAttribute||!(b=a.getAttribute(\"eid\")));)a=a.parentNode;return b||google.kEI};google.getLEI=function(a){for(var b=null;a&&(!a.getAttribute||!(b=a.getAttribute(\"leid\")));)a=a.parentNode;return b};google.https=function(){return\"https:\"==window.location.protocol};google.ml=function(){return null};google.time=function(){return(new Date).getTime()};google.log=function(a,b,e,c,g){if(a=google.logUrl(a,b,e,c,g)){b=new Image;var d=google.lc,f=google.li;d[f]=b;b.onerror=b.onload=b.onabort=function(){delete d[f]};google.vel&&google.vel.lu&&google.vel.lu(a);b.src=a;google.li=f+1}};google.logUrl=function(a,b,e,c,g){var d=\"\",f=google.ls||\"\";e||-1!=b.search(\"&ei=\")||(d=\"&ei=\"+google.getEI(c),-1==b.search(\"&lei=\")&&(c=google.getLEI(c))&&(d+=\"&lei=\"+c));c=\"\";!e&&google.cshid&&-1==b.search(\"&cshid=\")&&\"slh\"!=a&&(c=\"&cshid=\"+google.cshid);a=e||\"/\"+(g||\"gen_204\")+\"?atyp=i&ct=\"+a+\"&cad=\"+b+d+f+\"&zx=\"+google.time()+c;/^http:/i.test(a)&&google.https()&&(google.ml(Error(\"a\"),!1,{src:a,glmm:1}),a=\"\");return a};}).call(this);(function(){google.y={};google.x=function(a,b){if(a)var c=a.id;else{do c=Math.random();while(google.y[c])}google.y[c]=[a,b];return!1};google.lm=[];google.plm=function(a){google.lm.push.apply(google.lm,a)};google.lq=[];google.load=function(a,b,c){google.lq.push([[a],b,c])};google.loadAll=function(a,b){google.lq.push([a,b])};}).call(this);google.f={};(function(){document.documentElement.addEventListener(\"submit\",function(b){var a;if(a=b.target){var c=a.getAttribute(\"data-submitfalse\");a=\"1\"==c||\"q\"==c&&!a.elements.q.value?!0:!1}else a=!1;a&&(b.preventDefault(),b.stopPropagation())},!0);}).call(this);var a=window.location,b=a.href.indexOf(\"#\");if(0<=b){var c=a.href.substring(b+1);/(^|&)q=/.test(c)&&-1==c.indexOf(\"#\")&&a.replace(\"/search?\"+c.replace(/(^|&)fp=[^&]*/g,\"\")+\"&cad=h\")};</script><style>#gbar,#guser{font-size:13px;padding-top:1px !important;}#gbar{height:22px}#guser{padding-bottom:7px !important;text-align:right}.gbh,.gbd{border-top:1px solid #c9d7f1;font-size:1px}.gbh{height:0;position:absolute;top:24px;width:100%}@media all{.gb1{height:22px;margin-right:.5em;vertical-align:top}#gbar{float:left}}a.gb1,a.gb4{text-decoration:underline !important}a.gb1,a.gb4{color:#00c !important}.gbi .gb4{color:#dd8e27 !important}.gbf .gb4{color:#900 !important}\n",
      "</style><style>body,td,a,p,.h{font-family:arial,sans-serif}body{margin:0;overflow-y:scroll}#gog{padding:3px 8px 0}td{line-height:.8em}.gac_m td{line-height:17px}form{margin-bottom:20px}.h{color:#36c}.q{color:#00c}.ts td{padding:0}.ts{border-collapse:collapse}em{color:#c03;font-style:normal;font-weight:normal}a em{text-decoration:underline}.lst{height:25px;width:496px}.gsfi,.lst{font:18px arial,sans-serif}.gsfs{font:17px arial,sans-serif}.ds{display:inline-box;display:inline-block;margin:3px 0 4px;margin-left:4px}input{font-family:inherit}a.gb1,a.gb2,a.gb3,a.gb4{color:#11c !important}body{background:#fff;color:black}a{color:#11c;text-decoration:none}a:hover,a:active{text-decoration:underline}.fl a{color:#36c}a:visited{color:#551a8b}a.gb1,a.gb4{text-decoration:underline}a.gb3:hover{text-decoration:none}#ghead a.gb2:hover{color:#fff !important}.sblc{padding-top:5px}.sblc a{display:block;margin:2px 0;margin-left:13px;font-size:11px}.lsbb{background:#eee;border:solid 1px;border-color:#ccc #999 #999 #ccc;height:30px}.lsbb{display:block}.ftl,#fll a{display:inline-block;margin:0 12px}.lsb{background:url(/images/nav_logo229.png) 0 -261px repeat-x;border:none;color:#000;cursor:pointer;height:30px;margin:0;outline:0;font:15px arial,sans-serif;vertical-align:top}.lsb:active{background:#ccc}.lst:focus{outline:none}</style><script nonce=\"MswN+Ev//pqKrF6YoJDbWg==\"></script></head><body bgcolor=\"#fff\"><script nonce=\"MswN+Ev//pqKrF6YoJDbWg==\">(function(){var src='/images/nav_logo229.png';var iesg=false;document.body.onload = function(){window.n && window.n();if (document.images){new Image().src=src;}\n",
      "if (!iesg){document.f&&document.f.q.focus();document.gbqf&&document.gbqf.q.focus();}\n",
      "}\n",
      "})();</script><div id=\"mngb\"> <div id=\"gbar\"><nobr><b class=\"gb1\">搜尋</b> <a class=\"gb1\" href=\"https://www.google.com.tw/imghp?hl=zh-TW&amp;tab=wi\">圖片</a> <a class=\"gb1\" href=\"https://maps.google.com.tw/maps?hl=zh-TW&amp;tab=wl\">地圖</a> <a class=\"gb1\" href=\"https://play.google.com/?hl=zh-TW&amp;tab=w8\">Play</a> <a class=\"gb1\" href=\"https://www.youtube.com/?gl=TW&amp;tab=w1\">YouTube</a> <a class=\"gb1\" href=\"https://news.google.com.tw/nwshp?hl=zh-TW&amp;tab=wn\">新聞</a> <a class=\"gb1\" href=\"https://mail.google.com/mail/?tab=wm\">Gmail</a> <a class=\"gb1\" href=\"https://drive.google.com/?tab=wo\">雲端硬碟</a> <a class=\"gb1\" href=\"https://www.google.com.tw/intl/zh-TW/about/products?tab=wh\" style=\"text-decoration:none\"><u>更多</u> »</a></nobr></div><div id=\"guser\" width=\"100%\"><nobr><span class=\"gbi\" id=\"gbn\"></span><span class=\"gbf\" id=\"gbf\"></span><span id=\"gbe\"></span><a class=\"gb4\" href=\"http://www.google.com.tw/history/optout?hl=zh-TW\">網頁記錄</a> | <a class=\"gb4\" href=\"/preferences?hl=zh-TW\">設定</a> | <a class=\"gb4\" href=\"https://accounts.google.com/ServiceLogin?hl=zh-TW&amp;passive=true&amp;continue=https://www.google.com/\" id=\"gb_70\" target=\"_top\">登入</a></nobr></div><div class=\"gbh\" style=\"left:0\"></div><div class=\"gbh\" style=\"right:0\"></div> </div><center><br clear=\"all\" id=\"lgpd\"/><div id=\"lga\"><img alt=\"Google\" height=\"92\" id=\"hplogo\" src=\"/images/branding/googlelogo/1x/googlelogo_white_background_color_272x92dp.png\" style=\"padding:28px 0 14px\" width=\"272\"/><br/><br/></div><form action=\"/search\" name=\"f\"><table cellpadding=\"0\" cellspacing=\"0\"><tbody><tr valign=\"top\"><td width=\"25%\"> </td><td align=\"center\" nowrap=\"\"><input name=\"ie\" type=\"hidden\" value=\"ISO-8859-1\"/><input name=\"hl\" type=\"hidden\" value=\"zh-TW\"/><input name=\"source\" type=\"hidden\" value=\"hp\"/><input name=\"biw\" type=\"hidden\"/><input name=\"bih\" type=\"hidden\"/><div class=\"ds\" style=\"height:32px;margin:4px 0\"><input autocomplete=\"off\" class=\"lst\" maxlength=\"2048\" name=\"q\" size=\"57\" style=\"color:#000;margin:0;padding:5px 8px 0 6px;vertical-align:top\" title=\"Google 搜尋\" value=\"\"/></div><br style=\"line-height:0\"/><span class=\"ds\"><span class=\"lsbb\"><input class=\"lsb\" name=\"btnG\" type=\"submit\" value=\"Google 搜尋\"/></span></span><span class=\"ds\"><span class=\"lsbb\"><input class=\"lsb\" id=\"tsuid1\" name=\"btnI\" type=\"submit\" value=\"好手氣\"/><script nonce=\"MswN+Ev//pqKrF6YoJDbWg==\">(function(){var id='tsuid1';document.getElementById(id).onclick = function(){if (this.form.q.value){this.checked = 1;if (this.form.iflsig)this.form.iflsig.disabled = false;}\n",
      "else top.location='/doodles/';};})();</script><input name=\"iflsig\" type=\"hidden\" value=\"AAP1E1EAAAAAXf9QD3roHnZbDhGZ81b1nEAa_UghS-p7\"/></span></span></td><td align=\"left\" class=\"fl sblc\" nowrap=\"\" width=\"25%\"><a href=\"/advanced_search?hl=zh-TW&amp;authuser=0\">進階搜尋</a><a href=\"/language_tools?hl=zh-TW&amp;authuser=0\">語言工具</a></td></tr></tbody></table><input id=\"gbv\" name=\"gbv\" type=\"hidden\" value=\"1\"/><script nonce=\"MswN+Ev//pqKrF6YoJDbWg==\">(function(){var a,b=\"1\";if(document&&document.getElementById)if(\"undefined\"!=typeof XMLHttpRequest)b=\"2\";else if(\"undefined\"!=typeof ActiveXObject){var c,d,e=[\"MSXML2.XMLHTTP.6.0\",\"MSXML2.XMLHTTP.3.0\",\"MSXML2.XMLHTTP\",\"Microsoft.XMLHTTP\"];for(c=0;d=e[c++];)try{new ActiveXObject(d),b=\"2\"}catch(h){}}a=b;if(\"2\"==a&&-1==location.search.indexOf(\"&gbv=2\")){var f=google.gbvu,g=document.getElementById(\"gbv\");g&&(g.value=a);f&&window.setTimeout(function(){location.href=f},0)};}).call(this);</script></form><div id=\"gac_scont\"></div><div style=\"font-size:83%;min-height:3.5em\"><br/></div><span id=\"footer\"><div style=\"font-size:10pt\"><div id=\"fll\" style=\"margin:19px auto;text-align:center\"><a href=\"/intl/zh-TW/ads/\">廣告服務</a><a href=\"http://www.google.com.tw/intl/zh-TW/services/\">商業解決方案</a><a href=\"/intl/zh-TW/about.html\">Google 完全手冊</a><a href=\"https://www.google.com/setprefdomain?prefdom=TW&amp;prev=https://www.google.com.tw/&amp;sig=K_PQums6iUlMtyINeBS8RRWSCVT8c%3D\">Google.com.tw</a></div></div><p style=\"color:#767676;font-size:8pt\">© 2019 - <a href=\"/intl/zh-TW/policies/privacy/\">隱私權</a> - <a href=\"/intl/zh-TW/policies/terms/\">服務條款</a></p></span></center><script nonce=\"MswN+Ev//pqKrF6YoJDbWg==\">(function(){window.google.cdo={height:0,width:0};(function(){var a=window.innerWidth,b=window.innerHeight;if(!a||!b){var c=window.document,d=\"CSS1Compat\"==c.compatMode?c.documentElement:c.body;a=d.clientWidth;b=d.clientHeight}a&&b&&(a!=google.cdo.width||b!=google.cdo.height)&&google.log(\"\",\"\",\"/client_204?&atyp=i&biw=\"+a+\"&bih=\"+b+\"&ei=\"+google.kEI);}).call(this);})();(function(){var u='/xjs/_/js/k\\x3dxjs.hp.en.3mkxARIkkN0.O/m\\x3dsb_he,d/am\\x3dAAMCbAQ/d\\x3d1/rs\\x3dACT90oH0ZgFCL-q_Qh6y8ytgGBhQJ9zvUw';\n",
      "setTimeout(function(){var b=document;var a=\"SCRIPT\";\"application/xhtml+xml\"===b.contentType&&(a=a.toLowerCase());a=b.createElement(a);a.src=u;google.timers&&google.timers.load&&google.tick&&google.tick(\"load\",\"xjsls\");document.body.appendChild(a)},0);})();(function(){window.google.xjsu='/xjs/_/js/k\\x3dxjs.hp.en.3mkxARIkkN0.O/m\\x3dsb_he,d/am\\x3dAAMCbAQ/d\\x3d1/rs\\x3dACT90oH0ZgFCL-q_Qh6y8ytgGBhQJ9zvUw';})();function _DumpException(e){throw e;}\n",
      "function _F_installCss(c){}\n",
      "(function(){google.spjs=false;google.snet=true;google.em=[];google.emw=false;})();(function(){var pmc='{\\x22d\\x22:{},\\x22sb_he\\x22:{\\x22agen\\x22:true,\\x22cgen\\x22:true,\\x22client\\x22:\\x22heirloom-hp\\x22,\\x22dh\\x22:true,\\x22dhqt\\x22:true,\\x22ds\\x22:\\x22\\x22,\\x22ffql\\x22:\\x22zh-TW\\x22,\\x22fl\\x22:true,\\x22host\\x22:\\x22google.com\\x22,\\x22isbh\\x22:28,\\x22jsonp\\x22:true,\\x22msgs\\x22:{\\x22cibl\\x22:\\x22&#28165;&#38500;&#25628;&#23563;\\x22,\\x22dym\\x22:\\x22&#24744;&#26159;&#19981;&#26159;&#35201;&#26597;&#65306;\\x22,\\x22lcky\\x22:\\x22&#22909;&#25163;&#27683;\\x22,\\x22lml\\x22:\\x22&#30637;&#35299;&#35443;&#24773;\\x22,\\x22oskt\\x22:\\x22&#36664;&#20837;&#24037;&#20855;\\x22,\\x22psrc\\x22:\\x22&#24050;&#24478;&#24744;&#30340;&#12300;\\\\u003Ca href\\x3d\\\\\\x22/history\\\\\\x22\\\\u003E&#32178;&#38913;&#35352;&#37636;\\\\u003C/a\\\\u003E&#12301;&#20013;&#31227;&#38500;&#36889;&#31558;&#25628;&#23563;&#35352;&#37636;\\x22,\\x22psrl\\x22:\\x22&#31227;&#38500;\\x22,\\x22sbit\\x22:\\x22&#20197;&#22294;&#25628;&#23563;\\x22,\\x22srch\\x22:\\x22Google &#25628;&#23563;\\x22},\\x22ovr\\x22:{},\\x22pq\\x22:\\x22\\x22,\\x22refpd\\x22:true,\\x22refspre\\x22:true,\\x22rfs\\x22:[],\\x22sbpl\\x22:24,\\x22sbpr\\x22:24,\\x22scd\\x22:10,\\x22sce\\x22:5,\\x22stok\\x22:\\x22s9BGf6qwHRwuDxHuD5GL_TxcUYM\\x22,\\x22uhde\\x22:false}}';google.pmc=JSON.parse(pmc);})();</script>        </body></html> \n",
      "\n"
     ]
    }
   ],
   "source": [
    "r = requests.get(url)\n",
    "r.encoding = 'utf-8'\n",
    "soup = BeautifulSoup(r.text, \"html5lib\")\n",
    "print(soup, '\\n')"
   ]
  },
  {
   "cell_type": "code",
   "execution_count": 45,
   "metadata": {},
   "outputs": [
    {
     "name": "stdout",
     "output_type": "stream",
     "text": [
      "<class 'pyquery.pyquery.PyQuery'> Hello World\n"
     ]
    }
   ],
   "source": [
    "from grab import Grab\n",
    "\n",
    "\n",
    "g = Grab()\n",
    "resp = g.go('https://google.com')\n",
    "resp.body\n",
    "\n",
    "doc = pq(\"<html><h1>Hello World</h1></html>\")\n",
    "h1 = doc('h1')\n",
    "print(type(h1), h1.text())\n"
   ]
  },
  {
   "cell_type": "code",
   "execution_count": 46,
   "metadata": {},
   "outputs": [
    {
     "data": {
      "text/plain": [
       "51455"
      ]
     },
     "execution_count": 46,
     "metadata": {},
     "output_type": "execute_result"
    }
   ],
   "source": [
    "import io\n",
    "from grab import Grab\n",
    "from PIL import Image\n",
    "\n",
    "g = Grab()\n",
    "\n",
    "resp = g.go('https://i.imgur.com/r73M0Z7.jpg')\n",
    "\n",
    "open('./image.png', 'wb').write(resp.body)"
   ]
  },
  {
   "cell_type": "code",
   "execution_count": 47,
   "metadata": {},
   "outputs": [
    {
     "name": "stdout",
     "output_type": "stream",
     "text": [
      "<html lang=\"en\"> <head> <meta charset=\"utf-8\"/> <meta name=\"viewport\" content=\"width=device-width,initial-scale=1\"/> <title>Imgur: The magic of the Internet</title> <meta name=\"keywords\" content=\"funny, image, gif, gifs, memes, jokes, image upload, upload image, lol, humor, vote, comment, share, imgur, imgur.com, wallpaper\"/> <meta name=\"description\" content=\"Discover the magic of the internet at Imgur, a community powered entertainment destination. Lift your spirits with funny jokes, trending memes, entertaining gifs, inspiring stories, viral videos, and so much more.\"/> <meta name=\"copyright\" content=\"Copyright 2019 Imgur, Inc.\"/> <link rel=\"icon\" type=\"image/png\" href=\"https://s.imgur.com/images/favicon-32x32.png\" sizes=\"32x32\"/> <link rel=\"icon\" type=\"image/png\" href=\"https://s.imgur.com/images/favicon-96x96.png\" sizes=\"96x96\"/> <link rel=\"icon\" type=\"image/png\" href=\"https://s.imgur.com/images/favicon-16x16.png\" sizes=\"16x16\"/> <link rel=\"apple-touch-icon-precomposed\" href=\"https://s.imgur.com/images/favicon-152.png\"/> <meta name=\"msapplication-TileColor\" content=\"#2cd63c\"/> <meta name=\"msapplication-TileImage\" content=\"https://s.imgur.com/images/favicon-144.png\"/> <meta property=\"og:url\" content=\"https://imgur.com/\" data-react-helmet=\"true\"/> <link rel=\"alternate\" media=\"only screen and (max-width: 640px)\" href=\"https://m.imgur.com/\"/> <meta name=\"p:domain_verify\" content=\"834554521765408b9effdc758b69c5ee\"/> <meta property=\"og:site_name\" content=\"Imgur\"/> <meta property=\"fb:admins\" content=\"12331492\"/> <meta property=\"fb:admins\" content=\"12301369\"/> <meta property=\"fb:app_id\" content=\"127621437303857\"/> <meta property=\"al:android:url\" content=\"imgur://imgur.com/?from=fbreferral\"/> <meta property=\"al:android:app_name\" content=\"Imgur\"/> <meta property=\"al:android:package\" content=\"com.imgur.mobile\"/> <meta property=\"al:ios:url\" content=\"imgur://imgur.com/?from=fbreferral\"/> <meta property=\"al:ios:app_store_id\" content=\"639881495\"/> <meta property=\"al:ios:app_name\" content=\"Imgur\"/> <meta property=\"al:web:url\" content=\"https://imgur.com/\"/> <meta name=\"twitter:site\" content=\"@imgur\"/> <meta name=\"twitter:domain\" content=\"imgur.com\"/> <meta name=\"twitter:app:id:googleplay\" content=\"com.imgur.mobile\"/> <meta name=\"twitter:card\" content=\"summary_large_image\"/> <meta property=\"og:type\" content=\"website\"/> <meta property=\"og:title\" content=\"Imgur\"/> <meta name=\"twitter:title\" content=\"Imgur\"/> <meta property=\"og:description\" content=\"Imgur: The magic of the Internet\"/> <meta name=\"twitter:description\" content=\"Imgur: The magic of the Internet\"/> <meta property=\"og:image\" content=\"https://s.imgur.com/images/logo-1200-630.jpg?2\" data-react-helmet=\"true\"/> <meta property=\"og:image:height\" content=\"630\" data-react-helmet=\"true\"/> <meta property=\"og:image:width\" content=\"1200\" data-react-helmet=\"true\"/> <meta name=\"twitter:image:src\" content=\"https://s.imgur.com/images/logo-1200-630.jpg?2\" data-react-helmet=\"true\"/> <meta name=\"twitter:image:height\" content=\"630\" data-react-helmet=\"true\"/> <meta name=\"twitter:image:width\" content=\"1200\" data-react-helmet=\"true\"/> <script>dataLayer=[];var pbjs=pbjs||{};pbjs.que=pbjs.que||[]</script> <script>!function(e,t,a,n,g){e[n]=e[n]||[],e[n].push({\"gtm.start\":(new Date).getTime(),event:\"gtm.js\"});var m=t.getElementsByTagName(a)[0],r=t.createElement(a);r.async=!0,r.src=\"//www.googletagmanager.com/gtm.js?id=GTM-M6N38SF\",m.parentNode.insertBefore(r,m)}(window,document,\"script\",\"dataLayer\")</script> <link href=\"https://s.imgur.com/desktop-assets/css/styles.6204073f143f5b4d459a.css\" rel=\"stylesheet\"/></head> <body> <noscript><iframe src=\"https://www.googletagmanager.com/ns.html?id=GTM-M6N38SF\" height=\"0\" width=\"0\" style=\"display:none;visibility:hidden\"/></noscript> <noscript>If you're seeing this message, that means <strong>JavaScript has been disabled on your browser</strong>, please <strong>enable JS</strong> to make Imgur work. </noscript> <div id=\"root\"/> <script async=\"\" src=\"https://www.googletagmanager.com/gtag/js?id=UA-6671908-15\"/> <script>function gtag(){dataLayer.push(arguments)}window.dataLayer=window.dataLayer||[],gtag(\"js\",new Date),gtag(\"config\",\"UA-6671908-15\",{send_page_view:!1})</script> <script type=\"text/javascript\" src=\"https://s.imgur.com/desktop-assets/js/main.98f1ffd022c00a6f9941.js\"/></body> </html> \n",
      "\n",
      "<class 'pyquery.pyquery.PyQuery'> Imgur: The magic of the Internet\n"
     ]
    }
   ],
   "source": [
    "import requests\n",
    "from bs4 import BeautifulSoup\n",
    "from grab import Grab as g\n",
    "from pyquery import PyQuery as pq\n",
    "\n",
    "url = 'https://imgur.com/'\n",
    "r = g().go(url)\n",
    "doc = pq(r.body)\n",
    "print(doc, '\\n')\n",
    "title = doc('title')\n",
    "print(type(title), title.text())"
   ]
  },
  {
   "cell_type": "code",
   "execution_count": 48,
   "metadata": {},
   "outputs": [
    {
     "name": "stdout",
     "output_type": "stream",
     "text": [
      "<grab.document.Document object at 0x00000140CAB99268>\n",
      "<class 'grab.document.Document'>\n",
      "https://about.google/?fg=1&utm_source=google-&utm_medium=referral&utm_campaign=hp-header\n",
      "<generator object PyQuery.items at 0x00000140CAD69EC8>\n",
      "標題:Google 完全手冊\n",
      "超連結:https://about.google/?fg=1&utm_source=google-&utm_medium=referral&utm_campaign=hp-header\n",
      "None\n",
      "標題:Google 商店\n",
      "超連結:https://store.google.com/?utm_source=hp_header&utm_medium=google_ooo&utm_campaign=GS100042&hl=zh-TW-\n",
      "None\n",
      "標題:Gmail\n",
      "超連結:https://mail.google.com/mail/?tab=wm&ogbl\n",
      "gb_g\n",
      "標題:圖片\n",
      "超連結:https://www.google.com.tw/imghp?hl=zh-TW&tab=wi&ogbl\n",
      "gb_g\n",
      "標題:\n",
      "超連結:https://www.google.com.tw/intl/zh-TW/about/products?tab=wh\n",
      "gb_D gb_oc\n",
      "標題:登入\n",
      "超連結:https://accounts.google.com/ServiceLogin?hl=zh-TW&passive=true&continue=https://www.google.com/\n",
      "gb_9d gb_4 gb_Vc\n",
      "標題:回報不適當的預測查詢字串\n",
      "超連結:#\n",
      "duf3 aciXEb\n",
      "標題:English\n",
      "超連結:https://www.google.com/setprefs?sig=0_VYI2dKEpQgMIR4Cx0wD-KOldD3o%3D&hl=en&source=homepage&sa=X&ved=0ahUKEwjRveDugsnmAhULyIsBHUUYCv0Q2ZgBCA8\n",
      "None\n",
      "標題:隱私權\n",
      "超連結:https://policies.google.com/privacy?fg=1\n",
      "Fx4vi\n",
      "標題:服務條款\n",
      "超連結:https://policies.google.com/terms?fg=1\n",
      "Fx4vi\n",
      "標題:設定\n",
      "超連結:https://www.google.com/preferences?hl=zh-TW\n",
      "Fx4vi\n",
      "標題:搜尋設定\n",
      "超連結:https://www.google.com/preferences?hl=zh-TW&fg=1\n",
      "None\n",
      "標題:進階搜尋\n",
      "超連結:/advanced_search?hl=zh-TW&fg=1\n",
      "None\n",
      "標題:你在 Google 搜尋中的資料\n",
      "超連結:/history/privacyadvisor/search/unauth?utm_source=googlemenu&fg=1\n",
      "None\n",
      "標題:記錄\n",
      "超連結:/history/optout?hl=zh-TW&fg=1\n",
      "None\n",
      "標題:搜尋說明\n",
      "超連結://support.google.com/websearch/?p=ws_results_help&hl=zh-TW&fg=1\n",
      "None\n",
      "標題:提供意見\n",
      "超連結:#\n",
      "None\n",
      "標題:廣告\n",
      "超連結:https://www.google.com/intl/zh-TW_tw/ads/?subid=ww-ww-et-g-awa-a-g_hpafoot1_1!o2&utm_source=google.com&utm_medium=referral&utm_campaign=google_hpafooter&fg=1\n",
      "Fx4vi\n",
      "標題:商業\n",
      "超連結:https://www.google.com/services/?subid=ww-ww-et-g-awa-a-g_hpbfoot1_1!o2&utm_source=google.com&utm_medium=referral&utm_campaign=google_hpbfooter&fg=1\n",
      "Fx4vi\n",
      "標題:搜尋服務的運作方式\n",
      "超連結://google.com/search/howsearchworks/?fg=1\n",
      "Fx4vi\n"
     ]
    }
   ],
   "source": [
    "import requests #HTTP請求庫\n",
    "from pyquery import PyQuery as pq\n",
    "from grab import Grab as g\n",
    "\n",
    "#使用者header\n",
    "from fake_useragent import UserAgent\n",
    "ua = UserAgent()#使用者header\n",
    "\n",
    "# PYQUERY 以url初始化\n",
    "url = 'https://www.google.com/'\n",
    "\n",
    "#取得隨機header\n",
    "user_agent = {'User-Agent':str(ua.random)}\n",
    "\n",
    "# 目標網頁\n",
    "r = requests.get(url,headers=user_agent)\n",
    "#r.encoding = 'gb18030'\n",
    "r.encoding = 'utf8'\n",
    "\n",
    "\n",
    "\n",
    "r = g().go(url)\n",
    "#print(r.text)\n",
    "print(r)\n",
    "\n",
    "print(type(r))\n",
    "# pyQuery 以字符串初始化\n",
    "#j = pq(r.text,parser='html')\n",
    "j = pq(r.body)\n",
    "#print(j('title'))\n",
    "\n",
    "_a = j('a').attr('href')\n",
    "print(_a)\n",
    "\n",
    "#因為我們要分別取出每個a標籤的內容，所以要加上items方法方便遍歷\n",
    "info = j('a').items()\n",
    "print(info)\n",
    "#遍歷所有a標籤\n",
    "for i in info:\n",
    "    \n",
    "    cladsd = i.attr('class')\n",
    "    href = i.attr('href')#找出所有超連結\n",
    "    text = i.text()#找出所有超連結文本\n",
    "    \n",
    "    print('標題:'+text)\n",
    "    print('超連結:'+href)\n",
    "    print (cladsd)"
   ]
  },
  {
   "cell_type": "code",
   "execution_count": null,
   "metadata": {},
   "outputs": [],
   "source": []
  }
 ],
 "metadata": {
  "kernelspec": {
   "display_name": "Python 3",
   "language": "python",
   "name": "python3"
  },
  "language_info": {
   "codemirror_mode": {
    "name": "ipython",
    "version": 3
   },
   "file_extension": ".py",
   "mimetype": "text/x-python",
   "name": "python",
   "nbconvert_exporter": "python",
   "pygments_lexer": "ipython3",
   "version": "3.7.4"
  }
 },
 "nbformat": 4,
 "nbformat_minor": 2
}
