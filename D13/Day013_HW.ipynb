{
 "cells": [
  {
   "cell_type": "markdown",
   "metadata": {},
   "source": [
    "# PTT 網路爬蟲實作練習\n",
    "\n",
    "\n",
    "* 能夠利用 Request + BeatifulSour 撰寫爬蟲，並存放到合適的資料結構\n"
   ]
  },
  {
   "cell_type": "markdown",
   "metadata": {},
   "source": [
    "## 作業目標\n",
    "\n",
    "根據範例 ，完成以下問題：\n",
    "\n",
    "* ① 印出最新文章的「作者」「標題」「時間」\n",
    "* ② 印出第一頁所有文章的「作者」「標題」「時間」\n"
   ]
  },
  {
   "cell_type": "markdown",
   "metadata": {},
   "source": [
    "### ① 印出最新文章的「作者」「標題」「時間」"
   ]
  },
  {
   "cell_type": "code",
   "execution_count": 10,
   "metadata": {},
   "outputs": [],
   "source": [
    "import requests\n",
    "import re\n",
    "import pandas as pd\n",
    "from bs4 import BeautifulSoup"
   ]
  },
  {
   "cell_type": "markdown",
   "metadata": {},
   "source": [
    "### ② 印出第一頁所有文章的「作者」「標題」「時間」"
   ]
  },
  {
   "cell_type": "code",
   "execution_count": 37,
   "metadata": {},
   "outputs": [],
   "source": [
    "url1 = 'https://www.ptt.cc/bbs/NBA/index.html'\n",
    "url2 = 'https://www.ptt.cc/bbs/NBA/index.html'\n",
    "\n",
    "r = requests.get(url1)\n",
    "\n",
    "soup = BeautifulSoup(r.text, \"html5lib\")\n",
    "\n",
    "columns = ['作者', '看板', '標題', '時間']"
   ]
  },
  {
   "cell_type": "markdown",
   "metadata": {},
   "source": [
    "### ③ 試著爬爬看其他版的文章"
   ]
  },
  {
   "cell_type": "code",
   "execution_count": 31,
   "metadata": {},
   "outputs": [
    {
     "name": "stdout",
     "output_type": "stream",
     "text": [
      "6\n",
      "https://www.ptt.cc/bbs/NBA/M.1577203181.A.78B.html\n",
      "作者: Gotham (萬惡之城)\n",
      "標題: [新聞] 3分球10投盡墨 里拉德：凡事總有第一次\n",
      "時間: Tue Dec 24 23:59:38 2019\n"
     ]
    }
   ],
   "source": [
    "items = soup.findAll(True, {\"class\": re.compile(r'(r-ent|r-list-sep)')})\n",
    "\n",
    "for item in range(len(items)):\n",
    "    if 'r-list-sep' in items[item].attrs['class']:\n",
    "        try:\n",
    "            r = BeautifulSoup(requests.get('https://www.ptt.cc'+items[item-1].a['href']).text, \"html5lib\")\n",
    "            print(item)\n",
    "            print('https://www.ptt.cc'+items[item-1].a['href'])\n",
    "            article = []\n",
    "            for info in r.find_all(class_='article-meta-value'):\n",
    "                article.append(info.text)\n",
    "            print('作者: {}\\n標題: {}\\n時間: {}'.format(article[0], article[2], article[-1]))\n",
    "        except:\n",
    "            continue"
   ]
  },
  {
   "cell_type": "code",
   "execution_count": 42,
   "metadata": {},
   "outputs": [
    {
     "name": "stdout",
     "output_type": "stream",
     "text": [
      "0\n",
      "https://www.ptt.cc/bbs/NBA/M.1574959564.A.46A.html\n",
      "作者: JerroLi (銀色小刀)\n",
      "標題: [情報] SEASON Schedule 賽程 December 19–20\n",
      "時間: Fri Nov 29 00:46:01 2019\n",
      "1\n",
      "https://www.ptt.cc/bbs/NBA/M.1577197896.A.032.html\n",
      "作者: Wall62 ()\n",
      "標題: Re: [花邊] 字母哥把球鞋送給幸運小球迷\n",
      "時間: Tue Dec 24 22:31:30 2019\n",
      "2\n",
      "https://www.ptt.cc/bbs/NBA/M.1577198045.A.90D.html\n",
      "作者: ChrisDavis (工業電風扇)\n",
      "標題: [討論] 灰狼是不是still the same?\n",
      "時間: Tue Dec 24 22:34:03 2019\n",
      "3\n",
      "https://www.ptt.cc/bbs/NBA/M.1577200462.A.229.html\n",
      "作者: NSYSUheng (Pain)\n",
      "標題: [情報] Harden罰球命中數超越Shaquille O'Neal\n",
      "時間: Tue Dec 24 23:14:19 2019\n",
      "4\n",
      "https://www.ptt.cc/bbs/NBA/M.1577201876.A.103.html\n",
      "作者: kobe30418 (謝小笨)\n",
      "標題: [討論] 選秀年的深度或是說大年怎麼看？\n",
      "時間: Tue Dec 24 23:37:54 2019\n",
      "5\n",
      "https://www.ptt.cc/bbs/NBA/M.1577201957.A.EB7.html\n",
      "作者: iam168888888 (射精)\n",
      "標題: [新聞] 馬刺狂轟145分 Popovich任內次高\n",
      "時間: Tue Dec 24 23:39:15 2019\n",
      "6\n",
      "https://www.ptt.cc/bbs/NBA/M.1577203181.A.78B.html\n",
      "作者: Gotham (萬惡之城)\n",
      "標題: [新聞] 3分球10投盡墨 里拉德：凡事總有第一次\n",
      "時間: Tue Dec 24 23:59:38 2019\n",
      "7\n",
      "https://www.ptt.cc/bbs/NBA/M.1577205884.A.174.html\n",
      "作者: ghost069 (阿鬼)\n",
      "標題: [討論] 當初的雷霆三少誰的帶隊能力最好\n",
      "時間: Wed Dec 25 00:44:42 2019\n",
      "8\n",
      "https://www.ptt.cc/bbs/NBA/M.1558698194.A.1DC.html\n",
      "9\n",
      "https://www.ptt.cc/bbs/NBA/M.1561360084.A.52D.html\n",
      "作者: Vedan (味丹)\n",
      "標題: [公告] 樂透取消及未來不再開啟樂透\n",
      "時間: Mon Jun 24 15:08:02 2019\n",
      "10\n",
      "https://www.ptt.cc/bbs/NBA/M.1571971445.A.8A8.html\n",
      "作者: qazwsx879345 (Rajon Rondo)\n",
      "標題: [公告] 版主上任相關事項\n",
      "時間: Fri Oct 25 10:44:03 2019\n"
     ]
    }
   ],
   "source": [
    "items = soup.findAll(True, {\"class\": re.compile(r'(r-ent)')})\n",
    "\n",
    "for item in range(len(items)):\n",
    "    if 'r-ent' in items[item].attrs['class']:\n",
    "        try:\n",
    "            r = BeautifulSoup(requests.get('https://www.ptt.cc'+items[item-1].a['href']).text, \"html5lib\")\n",
    "            print(item)\n",
    "            print('https://www.ptt.cc'+items[item-1].a['href'])\n",
    "            article = []\n",
    "            for info in r.find_all(class_='article-meta-value'):\n",
    "                article.append(info.text)\n",
    "            print('作者: {}\\n標題: {}\\n時間: {}'.format(article[0], article[2], article[-1]))\n",
    "        except:\n",
    "            continue"
   ]
  },
  {
   "cell_type": "code",
   "execution_count": 43,
   "metadata": {},
   "outputs": [],
   "source": [
    "def GetFistPageInfo(url):\n",
    "    r = requests.get(url)\n",
    "    \n",
    "    soup = BeautifulSoup(r.text, \"html5lib\")\n",
    "    \n",
    "    articles = []\n",
    "    \n",
    "    for d in soup.find_all(class_=\"title\"):\n",
    "        try:\n",
    "            r = BeautifulSoup(requests.get('https://www.ptt.cc'+d.find('a')['href']).text, \"html5lib\")\n",
    "            article = []\n",
    "            for info in r.find_all(class_='article-meta-value'):\n",
    "                article.append(info.text)\n",
    "            articles.append(article)\n",
    "        except:\n",
    "            continue\n",
    "    df = pd.DataFrame(articles, columns=columns)\n",
    "    \n",
    "    return df\n"
   ]
  },
  {
   "cell_type": "code",
   "execution_count": 44,
   "metadata": {},
   "outputs": [
    {
     "data": {
      "text/html": [
       "<div>\n",
       "<style scoped>\n",
       "    .dataframe tbody tr th:only-of-type {\n",
       "        vertical-align: middle;\n",
       "    }\n",
       "\n",
       "    .dataframe tbody tr th {\n",
       "        vertical-align: top;\n",
       "    }\n",
       "\n",
       "    .dataframe thead th {\n",
       "        text-align: right;\n",
       "    }\n",
       "</style>\n",
       "<table border=\"1\" class=\"dataframe\">\n",
       "  <thead>\n",
       "    <tr style=\"text-align: right;\">\n",
       "      <th></th>\n",
       "      <th>作者</th>\n",
       "      <th>看板</th>\n",
       "      <th>標題</th>\n",
       "      <th>時間</th>\n",
       "    </tr>\n",
       "  </thead>\n",
       "  <tbody>\n",
       "    <tr>\n",
       "      <td>0</td>\n",
       "      <td>Wall62 ()</td>\n",
       "      <td>NBA</td>\n",
       "      <td>Re: [花邊] 字母哥把球鞋送給幸運小球迷</td>\n",
       "      <td>Tue Dec 24 22:31:30 2019</td>\n",
       "    </tr>\n",
       "    <tr>\n",
       "      <td>1</td>\n",
       "      <td>ChrisDavis (工業電風扇)</td>\n",
       "      <td>NBA</td>\n",
       "      <td>[討論] 灰狼是不是still the same?</td>\n",
       "      <td>Tue Dec 24 22:34:03 2019</td>\n",
       "    </tr>\n",
       "    <tr>\n",
       "      <td>2</td>\n",
       "      <td>NSYSUheng (Pain)</td>\n",
       "      <td>NBA</td>\n",
       "      <td>[情報] Harden罰球命中數超越Shaquille O'Neal</td>\n",
       "      <td>Tue Dec 24 23:14:19 2019</td>\n",
       "    </tr>\n",
       "    <tr>\n",
       "      <td>3</td>\n",
       "      <td>kobe30418 (謝小笨)</td>\n",
       "      <td>NBA</td>\n",
       "      <td>[討論] 選秀年的深度或是說大年怎麼看？</td>\n",
       "      <td>Tue Dec 24 23:37:54 2019</td>\n",
       "    </tr>\n",
       "    <tr>\n",
       "      <td>4</td>\n",
       "      <td>iam168888888 (射精)</td>\n",
       "      <td>NBA</td>\n",
       "      <td>[新聞] 馬刺狂轟145分 Popovich任內次高</td>\n",
       "      <td>Tue Dec 24 23:39:15 2019</td>\n",
       "    </tr>\n",
       "    <tr>\n",
       "      <td>5</td>\n",
       "      <td>Gotham (萬惡之城)</td>\n",
       "      <td>NBA</td>\n",
       "      <td>[新聞] 3分球10投盡墨 里拉德：凡事總有第一次</td>\n",
       "      <td>Tue Dec 24 23:59:38 2019</td>\n",
       "    </tr>\n",
       "    <tr>\n",
       "      <td>6</td>\n",
       "      <td>ghost069 (阿鬼)</td>\n",
       "      <td>NBA</td>\n",
       "      <td>[討論] 當初的雷霆三少誰的帶隊能力最好</td>\n",
       "      <td>Wed Dec 25 00:44:42 2019</td>\n",
       "    </tr>\n",
       "    <tr>\n",
       "      <td>7</td>\n",
       "      <td>None</td>\n",
       "      <td>None</td>\n",
       "      <td>None</td>\n",
       "      <td>None</td>\n",
       "    </tr>\n",
       "    <tr>\n",
       "      <td>8</td>\n",
       "      <td>Vedan (味丹)</td>\n",
       "      <td>NBA</td>\n",
       "      <td>[公告] 樂透取消及未來不再開啟樂透</td>\n",
       "      <td>Mon Jun 24 15:08:02 2019</td>\n",
       "    </tr>\n",
       "    <tr>\n",
       "      <td>9</td>\n",
       "      <td>qazwsx879345 (Rajon Rondo)</td>\n",
       "      <td>NBA</td>\n",
       "      <td>[公告] 版主上任相關事項</td>\n",
       "      <td>Fri Oct 25 10:44:03 2019</td>\n",
       "    </tr>\n",
       "    <tr>\n",
       "      <td>10</td>\n",
       "      <td>JerroLi (銀色小刀)</td>\n",
       "      <td>NBA</td>\n",
       "      <td>[情報] SEASON Schedule 賽程 December 19–20</td>\n",
       "      <td>Fri Nov 29 00:46:01 2019</td>\n",
       "    </tr>\n",
       "  </tbody>\n",
       "</table>\n",
       "</div>"
      ],
      "text/plain": [
       "                            作者    看板                                      標題  \\\n",
       "0                    Wall62 ()   NBA                  Re: [花邊] 字母哥把球鞋送給幸運小球迷   \n",
       "1           ChrisDavis (工業電風扇)   NBA               [討論] 灰狼是不是still the same?   \n",
       "2             NSYSUheng (Pain)   NBA      [情報] Harden罰球命中數超越Shaquille O'Neal   \n",
       "3              kobe30418 (謝小笨)   NBA                    [討論] 選秀年的深度或是說大年怎麼看？   \n",
       "4            iam168888888 (射精)   NBA              [新聞] 馬刺狂轟145分 Popovich任內次高   \n",
       "5                Gotham (萬惡之城)   NBA               [新聞] 3分球10投盡墨 里拉德：凡事總有第一次   \n",
       "6                ghost069 (阿鬼)   NBA                    [討論] 當初的雷霆三少誰的帶隊能力最好   \n",
       "7                         None  None                                    None   \n",
       "8                   Vedan (味丹)   NBA                      [公告] 樂透取消及未來不再開啟樂透   \n",
       "9   qazwsx879345 (Rajon Rondo)   NBA                           [公告] 版主上任相關事項   \n",
       "10              JerroLi (銀色小刀)   NBA  [情報] SEASON Schedule 賽程 December 19–20   \n",
       "\n",
       "                          時間  \n",
       "0   Tue Dec 24 22:31:30 2019  \n",
       "1   Tue Dec 24 22:34:03 2019  \n",
       "2   Tue Dec 24 23:14:19 2019  \n",
       "3   Tue Dec 24 23:37:54 2019  \n",
       "4   Tue Dec 24 23:39:15 2019  \n",
       "5   Tue Dec 24 23:59:38 2019  \n",
       "6   Wed Dec 25 00:44:42 2019  \n",
       "7                       None  \n",
       "8   Mon Jun 24 15:08:02 2019  \n",
       "9   Fri Oct 25 10:44:03 2019  \n",
       "10  Fri Nov 29 00:46:01 2019  "
      ]
     },
     "execution_count": 44,
     "metadata": {},
     "output_type": "execute_result"
    }
   ],
   "source": [
    "GetFistPageInfo(url2)"
   ]
  },
  {
   "cell_type": "code",
   "execution_count": null,
   "metadata": {},
   "outputs": [],
   "source": []
  }
 ],
 "metadata": {
  "kernelspec": {
   "display_name": "Python 3",
   "language": "python",
   "name": "python3"
  },
  "language_info": {
   "codemirror_mode": {
    "name": "ipython",
    "version": 3
   },
   "file_extension": ".py",
   "mimetype": "text/x-python",
   "name": "python",
   "nbconvert_exporter": "python",
   "pygments_lexer": "ipython3",
   "version": "3.7.4"
  }
 },
 "nbformat": 4,
 "nbformat_minor": 2
}
