{
 "cells": [
  {
   "cell_type": "markdown",
   "metadata": {},
   "source": [
    "# PTT 網路爬蟲實作練習\n",
    "\n",
    "\n",
    "* 能夠利用 Request + BeatifulSour 撰寫爬蟲，並存放到合適的資料結構\n"
   ]
  },
  {
   "cell_type": "markdown",
   "metadata": {},
   "source": [
    "## PTT 網頁爬蟲"
   ]
  },
  {
   "cell_type": "code",
   "execution_count": 1,
   "metadata": {},
   "outputs": [
    {
     "name": "stdout",
     "output_type": "stream",
     "text": [
      "[新聞] 可用之兵多到沒機會 波爾辛吉斯不好受\n",
      "作者: asdf1256 (guest)\n",
      "[新聞] 詹姆斯鄙視柯瑞？名球評：他們之間並不\n",
      "作者: fukawa947 (交大薛之謙)\n",
      "[情報] 團隊薪資與戰績排行\n",
      "作者: checktime (華哥)\n",
      "[討論] 甜瓜在球場外(社會上)真的很罩嗎?\n",
      "作者: takizawahide (Val Valentino)\n",
      "[新聞] 曾被視為沈睡的巨人　勇士獲選為十年最佳\n",
      "作者: go190214 (天空之島拉普達)\n",
      "[新聞] 生涯新高 波神狂抓18籃板\n",
      "作者: VeryGoodBoy (很棒的男孩)\n",
      "Re: [新聞] 詹姆斯鄙視柯瑞？名球評：他們之間並\n",
      "作者: dragon803 (好想去露營啊~)\n",
      "Re: [討論] 甜瓜在球場外(社會上)真的很罩嗎?\n",
      "作者: Ensidia (要宅的這麼神是有難度的)\n",
      "Re: [花邊] 球迷為冰品辱罵球員　Thomas：太超過\n",
      "作者: lens82801 (開始QQ的見習生)\n",
      "Re: [討論] 甜瓜在球場外(社會上)真的很罩嗎?\n",
      "作者: ccrr1234 (ccrr123)\n",
      "[花邊] Curry裸照事件上推特熱搜 經紀人堅決否認\n",
      "作者: whoAU (你是誰？)\n",
      "[新聞] 楊恩狂轟47分齊名喬丹、詹皇　老鷹仍被\n",
      "作者: s27052705 (小飽)\n",
      "[情報] LBJ明天可能不上場對金塊\n",
      "作者: iversonya (iversonya)\n",
      "[情報] NBA Standings (Dec. 22, 2019)\n",
      "作者: a78998042a (Benjimin)\n",
      "[情報] 生涯出賽時間5萬分鐘以上球員(例行+季後)\n",
      "作者: MrSatan (老大!!!!!!!!)\n",
      "[花邊] 字母1代是Nike史上賣最好的初代簽名鞋\n",
      "作者: AKawashima (bfh)\n",
      "[公告] 板規v6.7\n",
      "[公告] 樂透取消及未來不再開啟樂透\n",
      "作者: Vedan (味丹)\n",
      "[公告] 版主上任相關事項 \n",
      "作者: qazwsx879345 (Rajon Rondo)\n",
      "[情報] SEASON Schedule 賽程 December 19–20\n",
      "作者: JerroLi (銀色小刀)\n",
      "[公告] 是否禁止記者鄭廷瑋文章投票開始\n",
      "作者: dragon803 (好想去露營啊~)\n"
     ]
    }
   ],
   "source": [
    "import requests\n",
    "from bs4 import BeautifulSoup\n",
    "\n",
    "url = 'https://www.ptt.cc/bbs/NBA/index.html'\n",
    "r = requests.get(url)\n",
    "\n",
    "soup = BeautifulSoup(r.text, \"html5lib\")\n",
    "\n",
    "for d in soup.find_all(class_=\"title\"):\n",
    "    print(d.text.replace('\\t', '').replace('\\n', ''))\n",
    "    try:\n",
    "        r = BeautifulSoup(requests.get('https://www.ptt.cc'+d.find('a')['href']).text, \"html5lib\")\n",
    "        print('作者: ' + r.find(class_='article-meta-value').text)\n",
    "    except:\n",
    "        continue\n"
   ]
  },
  {
   "cell_type": "markdown",
   "metadata": {},
   "source": [
    "## 作業目標\n",
    "\n",
    "根據範例 ，完成以下問題：\n",
    "\n",
    "* ① 印出最新文章的「作者」「標題」「時間」\n",
    "* ② 印出第一頁所有文章的「作者」「標題」「時間」\n",
    "* ③ 試著爬爬看其他版的文章\n"
   ]
  },
  {
   "cell_type": "code",
   "execution_count": null,
   "metadata": {},
   "outputs": [],
   "source": []
  }
 ],
 "metadata": {
  "kernelspec": {
   "display_name": "Python 3",
   "language": "python",
   "name": "python3"
  },
  "language_info": {
   "codemirror_mode": {
    "name": "ipython",
    "version": 3
   },
   "file_extension": ".py",
   "mimetype": "text/x-python",
   "name": "python",
   "nbconvert_exporter": "python",
   "pygments_lexer": "ipython3",
   "version": "3.7.4"
  }
 },
 "nbformat": 4,
 "nbformat_minor": 2
}
