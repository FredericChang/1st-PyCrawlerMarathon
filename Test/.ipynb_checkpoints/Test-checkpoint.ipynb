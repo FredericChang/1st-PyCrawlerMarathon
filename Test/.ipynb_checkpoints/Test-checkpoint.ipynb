{
 "cells": [
  {
   "cell_type": "markdown",
   "metadata": {},
   "source": [
    "# Wikipedia爬蟲練習\n",
    "## 範例：練習是從Wikipedia中爬取文章。先定義一個搜尋的關鍵字，擷取該關鍵字詞的文章。"
   ]
  },
  {
   "cell_type": "code",
   "execution_count": null,
   "metadata": {},
   "outputs": [],
   "source": [
    "shopee_url = 'https://shopee.tw/'\n",
    "\n",
    "from selenium import webdriver\n",
    "from webdriver_manager.chrome import ChromeDriverManager\n",
    "driver= webdriver.Chrome()\n",
    "driver.get(shopee_url)\n",
    "\n",
    "q = driver.find_element_by_class_name('shopee-searchbar-input__input')\n",
    "q.send_keys('後背包')\n",
    "\n",
    "from selenium.webdriver.common.keys import Keys\n",
    "q.send_keys(Keys.RETURN)\n",
    "\n",
    "from bs4 import BeautifulSoup\n",
    "soup = BeautifulSoup(driver.page_source,'lxml')\n",
    "links = soup.find_all(class_=\"shopee-search-item-result__item\")\n",
    "\n",
    "\n",
    "for link in links:\n",
    "\n",
    "   driver.get(shopee_url+link['href'])\n",
    "   soup_lv2 = BeautifulSoup(driver.page_source,'lxml')\n",
    "   selling_data = soup_lv2.find_all(\"div\", \"shopee-product-info__header__sold-count\")\n",
    "   print(selling_data)"
   ]
  },
  {
   "cell_type": "code",
   "execution_count": null,
   "metadata": {},
   "outputs": [],
   "source": [
    "import requests\n",
    "import re\n",
    "import pandas as pd\n",
    "from bs4 import BeautifulSoup\n",
    "from fake_useragent import UserAgent\n",
    "\n",
    "import json"
   ]
  },
  {
   "cell_type": "code",
   "execution_count": 59,
   "metadata": {},
   "outputs": [
    {
     "name": "stdout",
     "output_type": "stream",
     "text": [
      "『現貨+預購』 Balea 精華膠\n",
      "1212735748\n",
      "1819984\n"
     ]
    }
   ],
   "source": [
    "url = 'https://shopee.tw/api/v2/search_items/?by=pop&limit=30&match_id=1819984&newest=0&order=desc&page_type=shop&shop_categoryids=9271157&version=2'\n",
    "\n",
    "headers = {\n",
    "        'User-Agent': 'Googlebot',\n",
    "    }\n",
    "\n",
    "r = requests.get(url,headers=headers)\n",
    "\n",
    "api1_data = json.loads(r.text)\n",
    "\n",
    "# 查看第8筆資料的內容:\n",
    "print(api1_data['items'][0]['name'])\n",
    "print(api1_data['items'][0]['itemid'])\n",
    "print(api1_data['items'][0]['shopid'])"
   ]
  },
  {
   "cell_type": "code",
   "execution_count": null,
   "metadata": {},
   "outputs": [],
   "source": []
  },
  {
   "cell_type": "code",
   "execution_count": null,
   "metadata": {},
   "outputs": [],
   "source": []
  },
  {
   "cell_type": "code",
   "execution_count": null,
   "metadata": {},
   "outputs": [],
   "source": [
    "url = 'https://shopee.tw/search?keyword=PS4%20pro%20%E4%B8%BB%E6%A9%9F'\n",
    "headers = {\n",
    "    'User-Agent': 'Googlebot',\n",
    "    'From': 'paulpoiu123@gmail.com'\n",
    "}\n",
    "\n",
    "r = requests.get(url,headers=headers,allow_redirects=True)\n",
    "print(r.status_code)\n",
    "print(r.history)\n",
    "print(r.url)\n",
    "\n",
    "soup = BeautifulSoup(r.text, 'html.parser')\n",
    "items = soup.find_all(\"div\", class_=\"col-xs-2-4 shopee-search-item-result__item\")\n",
    "print(len(items))"
   ]
  },
  {
   "cell_type": "markdown",
   "metadata": {},
   "source": [
    "### 先定義一個我們想搜尋的字詞，並將它轉換成UTF-8編碼後的URL"
   ]
  },
  {
   "cell_type": "code",
   "execution_count": 62,
   "metadata": {},
   "outputs": [],
   "source": [
    "contents = soup.find_all(\"div\", class_=\"_1NoI8_ _2gr36I\")\n",
    "prices = soup.find_all(\"span\", class_=\"_341bF0\")\n",
    "all_items = soup.find_all(\"div\", class_=\"col-xs-2-4 shopee-search-item-result__item\")\n",
    "links = [i.find('a').get('href') for i in all_items]\n",
    "\n",
    "for c, p, l in zip(contents, prices, links):\n",
    "    print(c.contents[0])\n",
    "    print(p.contents[0])\n",
    "    print('https://shopee.tw/'+l)\n",
    "    print('*---------------------------------*')"
   ]
  },
  {
   "cell_type": "code",
   "execution_count": 63,
   "metadata": {},
   "outputs": [
    {
     "name": "stdout",
     "output_type": "stream",
     "text": [
      "200\n",
      "11005\n",
      "0\n",
      "[]\n",
      "https://shopee.tw/fanghsinhsu\n",
      "200\n",
      "11005\n",
      "0\n",
      "[]\n",
      "https://shopee.tw/fanghsinhsu\n",
      "200\n"
     ]
    }
   ],
   "source": [
    "  \n",
    "\n",
    "url = 'https://shopee.tw/fanghsinhsu'\n",
    "resp = requests.get(url, headers=headers)\n",
    "print(resp.status_code)\n",
    "print(len(resp.text))\n",
    "\n",
    "soup = BeautifulSoup(resp.text, 'html.parser')\n",
    "items = soup.find_all(\"div\", class_=\"col-xs-2 shop-collection-view__item\")\n",
    "print(len(items))\n",
    "print(resp.history)\n",
    "print(resp.url)\n",
    "\n",
    "url = 'https://shopee.tw/fanghsinhsu'\n",
    "resp = requests.get(url, headers=headers)\n",
    "print(resp.status_code)\n",
    "print(len(resp.text))\n",
    "\n",
    "soup = BeautifulSoup(resp.text, 'html.parser')\n",
    "items = soup.find_all(\"div\", class_=\"col-xs-2 shop-collection-view__item\")\n",
    "print(len(items))\n",
    "print(resp.history)\n",
    "print(resp.url)\n",
    "\n",
    "\n",
    "url = 'https://shopee.tw/search?keyword=PS4%20pro%20%E4%B8%BB%E6%A9%9F'\n",
    "r = requests.get(url,allow_redirects=False)\n",
    "print(r.status_code)"
   ]
  },
  {
   "cell_type": "code",
   "execution_count": null,
   "metadata": {},
   "outputs": [],
   "source": [
    "resp.encoding = 'utf-8'\n",
    "\n",
    "\n",
    "html = BeautifulSoup(resp.text, \"lxml\")\n",
    "content = html.find(name='div', attrs={'class':'shop-search-result-view'})\n",
    "print(content)"
   ]
  },
  {
   "cell_type": "code",
   "execution_count": null,
   "metadata": {},
   "outputs": [],
   "source": []
  }
 ],
 "metadata": {
  "kernelspec": {
   "display_name": "Python 3",
   "language": "python",
   "name": "python3"
  },
  "language_info": {
   "codemirror_mode": {
    "name": "ipython",
    "version": 3
   },
   "file_extension": ".py",
   "mimetype": "text/x-python",
   "name": "python",
   "nbconvert_exporter": "python",
   "pygments_lexer": "ipython3",
   "version": "3.7.4"
  }
 },
 "nbformat": 4,
 "nbformat_minor": 2
}
