{
 "cells": [
  {
   "cell_type": "markdown",
   "metadata": {},
   "source": [
    "# Python 下載XML檔案與解析\n",
    "\n",
    "\n",
    "* 了解 xml 檔案格式與內容\n",
    "* 能夠利用套件存取 xml 格式的檔案\n"
   ]
  },
  {
   "cell_type": "markdown",
   "metadata": {},
   "source": [
    "## 作業目標\n",
    "\n",
    "* 比較一下範例檔案中的「File I/O」與「xmltodict」讀出來的內容有什麼差異\n",
    "\n",
    "* 根據範例檔案的結果：\n",
    "    1. 請問高雄市有多少地區有溫度資料？\n",
    "    2. 請取出每一個地區所記錄的第一個時間點跟溫度\n",
    "    3. 請取出第一個地區所記錄的每一個時間點跟溫度"
   ]
  },
  {
   "cell_type": "markdown",
   "metadata": {},
   "source": [
    "### 比較一下範例檔案中的「File I/O」與「xmltodict」讀出來的內容有什麼差異\n"
   ]
  },
  {
   "cell_type": "code",
   "execution_count": 15,
   "metadata": {},
   "outputs": [
    {
     "name": "stdout",
     "output_type": "stream",
     "text": [
      "<?xml version=\"1.0\" encoding=\"UTF-8\"?>\n",
      "<CUPOY>\n",
      "    <Title>爬蟲馬拉松</Title>\n",
      "    <Author>Wei</Author>\n",
      "    <Chapters>\n",
      "        <Chapter name=\"01\">資料來源與存取</Chapter>\n",
      "        <Chapter name=\"02\">靜態網頁爬蟲</Chapter>\n",
      "        <Chapter name=\"03\">動態網頁爬蟲</Chapter>\n",
      "    </Chapters>\n",
      "</CUPOY>\n"
     ]
    }
   ],
   "source": [
    "import os \n",
    "\n",
    "fn = open('./data/sample.xml',encoding='UTF-8')\n",
    "xml = fn.read()\n",
    "print(xml)"
   ]
  },
  {
   "cell_type": "markdown",
   "metadata": {},
   "source": [
    "「xmltodict」讀出來的內容有什麼差異"
   ]
  },
  {
   "cell_type": "code",
   "execution_count": 17,
   "metadata": {},
   "outputs": [
    {
     "name": "stdout",
     "output_type": "stream",
     "text": [
      "OrderedDict([('CUPOY', OrderedDict([('Title', '爬蟲馬拉松'), ('Author', 'Wei'), ('Chapters', OrderedDict([('Chapter', [OrderedDict([('@name', '01'), ('#text', '資料來源與存取')]), OrderedDict([('@name', '02'), ('#text', '靜態網頁爬蟲')]), OrderedDict([('@name', '03'), ('#text', '動態網頁爬蟲')])])]))]))])\n"
     ]
    }
   ],
   "source": [
    "import xmltodict\n",
    "\n",
    "with open('./data/sample.xml', encoding='UTF-8-sig') as fd:\n",
    "    doc = xmltodict.parse(fd.read())\n",
    "print(doc)"
   ]
  },
  {
   "cell_type": "code",
   "execution_count": 16,
   "metadata": {},
   "outputs": [
    {
     "name": "stdout",
     "output_type": "stream",
     "text": [
      "高雄市有38個地區有溫度資料\n"
     ]
    }
   ],
   "source": [
    "# 1. 請問高雄市有多少地區有溫度資料？\n",
    "import xmltodict\n",
    "\n",
    "count_number = 0\n",
    "\n",
    "with open('./data/64_72hr_CH.xml', encoding='UTF-8-sig') as fd:\n",
    "    doc = xmltodict.parse(fd.read())\n",
    "\n",
    "sect_with_tempers = doc[\"cwbopendata\"][\"dataset\"][\"locations\"][\"location\"]\n",
    "for sect_with_temper in sect_with_tempers:\n",
    "    for weatherElement in sect_with_temper['weatherElement']:\n",
    "        if weatherElement['description'] == '溫度':\n",
    "            count_number += 1\n",
    "\n",
    "print(\"高雄市有%s個地區有溫度資料\" % count_number)"
   ]
  },
  {
   "cell_type": "code",
   "execution_count": 7,
   "metadata": {},
   "outputs": [
    {
     "name": "stdout",
     "output_type": "stream",
     "text": [
      "鹽埕區 2019-12-02T00:00:00+08:00 21\n",
      "鼓山區 2019-12-02T00:00:00+08:00 21\n",
      "左營區 2019-12-02T00:00:00+08:00 20\n",
      "楠梓區 2019-12-02T00:00:00+08:00 20\n",
      "三民區 2019-12-02T00:00:00+08:00 20\n",
      "新興區 2019-12-02T00:00:00+08:00 21\n",
      "前金區 2019-12-02T00:00:00+08:00 21\n",
      "苓雅區 2019-12-02T00:00:00+08:00 21\n",
      "前鎮區 2019-12-02T00:00:00+08:00 21\n",
      "旗津區 2019-12-02T00:00:00+08:00 21\n",
      "小港區 2019-12-02T00:00:00+08:00 21\n",
      "鳳山區 2019-12-02T00:00:00+08:00 20\n",
      "林園區 2019-12-02T00:00:00+08:00 21\n",
      "大寮區 2019-12-02T00:00:00+08:00 20\n",
      "大樹區 2019-12-02T00:00:00+08:00 18\n",
      "大社區 2019-12-02T00:00:00+08:00 19\n",
      "仁武區 2019-12-02T00:00:00+08:00 19\n",
      "鳥松區 2019-12-02T00:00:00+08:00 19\n",
      "岡山區 2019-12-02T00:00:00+08:00 19\n",
      "橋頭區 2019-12-02T00:00:00+08:00 20\n",
      "燕巢區 2019-12-02T00:00:00+08:00 19\n",
      "田寮區 2019-12-02T00:00:00+08:00 18\n",
      "阿蓮區 2019-12-02T00:00:00+08:00 18\n",
      "路竹區 2019-12-02T00:00:00+08:00 20\n",
      "湖內區 2019-12-02T00:00:00+08:00 20\n",
      "茄萣區 2019-12-02T00:00:00+08:00 20\n",
      "永安區 2019-12-02T00:00:00+08:00 20\n",
      "彌陀區 2019-12-02T00:00:00+08:00 20\n",
      "梓官區 2019-12-02T00:00:00+08:00 19\n",
      "旗山區 2019-12-02T00:00:00+08:00 20\n",
      "美濃區 2019-12-02T00:00:00+08:00 19\n",
      "六龜區 2019-12-02T00:00:00+08:00 20\n",
      "甲仙區 2019-12-02T00:00:00+08:00 17\n",
      "杉林區 2019-12-02T00:00:00+08:00 20\n",
      "內門區 2019-12-02T00:00:00+08:00 18\n",
      "茂林區 2019-12-02T00:00:00+08:00 18\n",
      "桃源區 2019-12-02T00:00:00+08:00 17\n",
      "那瑪夏區 2019-12-02T00:00:00+08:00 16\n"
     ]
    }
   ],
   "source": [
    "# 2. 請取出每一個地區所記錄的第一個時間點跟溫度\n",
    "import xmltodict\n",
    "\n",
    "count_number = 0\n",
    "\n",
    "with open('./data/64_72hr_CH.xml', encoding='UTF-8-sig') as fd:\n",
    "    doc = xmltodict.parse(fd.read())\n",
    "\n",
    "sect_with_tempers = doc[\"cwbopendata\"][\"dataset\"][\"locations\"][\"location\"]\n",
    "for sect_with_temper in sect_with_tempers:\n",
    "    for weatherElement in sect_with_temper['weatherElement']:\n",
    "        if weatherElement['description'] == '溫度':\n",
    "            print(sect_with_tempers['locationname'],weatherElement['time'][0]['dataTime'],weatherElement['time'][0]  ['elementValue']['value'])"
   ]
  },
  {
   "cell_type": "code",
   "execution_count": 14,
   "metadata": {},
   "outputs": [
    {
     "name": "stdout",
     "output_type": "stream",
     "text": [
      "2019-12-02T00:00:00+08:00 21\n",
      "2019-12-02T03:00:00+08:00 20\n",
      "2019-12-02T06:00:00+08:00 19\n",
      "2019-12-02T09:00:00+08:00 20\n",
      "2019-12-02T12:00:00+08:00 25\n",
      "2019-12-02T15:00:00+08:00 25\n",
      "2019-12-02T18:00:00+08:00 23\n",
      "2019-12-02T21:00:00+08:00 20\n",
      "2019-12-03T00:00:00+08:00 18\n",
      "2019-12-03T03:00:00+08:00 17\n",
      "2019-12-03T06:00:00+08:00 16\n",
      "2019-12-03T09:00:00+08:00 18\n",
      "2019-12-03T12:00:00+08:00 22\n",
      "2019-12-03T15:00:00+08:00 23\n",
      "2019-12-03T18:00:00+08:00 21\n",
      "2019-12-03T21:00:00+08:00 20\n",
      "2019-12-04T00:00:00+08:00 19\n",
      "2019-12-04T03:00:00+08:00 18\n",
      "2019-12-04T06:00:00+08:00 18\n",
      "2019-12-04T09:00:00+08:00 19\n",
      "2019-12-04T12:00:00+08:00 23\n",
      "2019-12-04T15:00:00+08:00 23\n",
      "2019-12-04T18:00:00+08:00 21\n",
      "2019-12-04T21:00:00+08:00 20\n"
     ]
    }
   ],
   "source": [
    "# 3. 請取出第一個地區所記錄的每一個時間點跟溫度\n",
    "import xmltodict\n",
    "\n",
    "with open('./data/64_72hr_CH.xml', encoding='UTF-8') as fd:\n",
    "    doc = dict(xmltodict.parse(fd.read()))\n",
    "\n",
    "sect_with_tempers = doc[\"cwbopendata\"][\"dataset\"][\"locations\"][\"location\"]\n",
    "\n",
    "for sect_with_temper in sect_with_tempers:\n",
    "    if sect_with_temper['locationName'] == '鹽埕區':\n",
    "        for weatherElement in sect_with_temper['weatherElement']:\n",
    "            if weatherElement['description'] == '溫度':\n",
    "                for time in weatherElement['time']:\n",
    "                    print(time['dataTime'], time['elementValue']['value'])\n",
    "\n"
   ]
  },
  {
   "cell_type": "code",
   "execution_count": null,
   "metadata": {},
   "outputs": [],
   "source": []
  }
 ],
 "metadata": {
  "kernelspec": {
   "display_name": "Python 3",
   "language": "python",
   "name": "python3"
  },
  "language_info": {
   "codemirror_mode": {
    "name": "ipython",
    "version": 3
   },
   "file_extension": ".py",
   "mimetype": "text/x-python",
   "name": "python",
   "nbconvert_exporter": "python",
   "pygments_lexer": "ipython3",
   "version": "3.7.4"
  }
 },
 "nbformat": 4,
 "nbformat_minor": 2
}
