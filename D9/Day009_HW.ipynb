{
 "cells": [
  {
   "cell_type": "markdown",
   "metadata": {},
   "source": [
    "# 作業\n",
    "\n",
    "以正確的副檔名下載網頁中的圖片\n",
    "範例網頁:https://www.ptt.cc/bbs/Beauty/M.1556291059.A.75A.html\n",
    "\n",
    "Note：因為 PTT 會詢問「是否滿 18 歲」，這邊可以用 cookies 繞過\n",
    "\n",
    "`requests.get(URL, cookies={'over18': '1'}`\n"
   ]
  },
  {
   "cell_type": "code",
   "execution_count": 6,
   "metadata": {},
   "outputs": [],
   "source": [
    "import requests\n",
    "import os\n",
    "from urllib.request import urlopen\n",
    "import ssl\n",
    "from bs4 import BeautifulSoup\n",
    "from PIL import Image"
   ]
  },
  {
   "cell_type": "code",
   "execution_count": 7,
   "metadata": {},
   "outputs": [],
   "source": [
    "url = 'https://www.ptt.cc/bbs/Beauty/M.1556291059.A.75A.html'\n",
    "resp = requests.get(url, cookies={'over18': '1'})\n",
    "soup = BeautifulSoup(resp.text)"
   ]
  },
  {
   "cell_type": "code",
   "execution_count": 20,
   "metadata": {},
   "outputs": [
    {
     "name": "stdout",
     "output_type": "stream",
     "text": [
      "https://imgur.com/Cgb5oo1\n",
      "IjiETcs\n",
      "Cgb5oo1\n",
      "https://imgur.com/Cgb5oo1.jpg\n",
      "Save image downloads2/Cgb5oo1.jpeg\n",
      "https://imgur.com/MgjHY4f\n",
      "Cgb5oo1\n",
      "MgjHY4f\n",
      "https://imgur.com/MgjHY4f.jpg\n",
      "Save image downloads2/MgjHY4f.jpeg\n",
      "https://imgur.com/yeoRtAs\n",
      "MgjHY4f\n",
      "yeoRtAs\n",
      "https://imgur.com/yeoRtAs.jpg\n",
      "Save image downloads2/yeoRtAs.jpeg\n",
      "https://imgur.com/wsauNEW\n",
      "yeoRtAs\n",
      "wsauNEW\n",
      "https://imgur.com/wsauNEW.jpg\n",
      "Save image downloads2/wsauNEW.jpeg\n",
      "https://imgur.com/IjiETcs\n",
      "wsauNEW\n",
      "IjiETcs\n",
      "https://imgur.com/IjiETcs.jpg\n",
      "Save image downloads2/IjiETcs.jpeg\n"
     ]
    }
   ],
   "source": [
    "# 決定要儲存的資料夾\n",
    "output_dir = 'downloads2'\n",
    "\n",
    "# 假如資料夾不存在就新增一個資料夾\n",
    "if not os.path.exists(output_dir):\n",
    "    os.makedirs(output_dir)\n",
    "\n",
    "# 定位所有圖片的 tag\n",
    "\n",
    "image_tags = soup.find(id='main-content').findChildren('a', recursive=False)\n",
    "for img_tag in image_tags:\n",
    "    if 'imgur' not in img_tag['href']:\n",
    "        continue\n",
    "    print(img_tag['href'])\n",
    "    print(img_id)\n",
    "    img_id = img_tag['href'].split('/')[-1]\n",
    "    print(img_id)\n",
    "    # 取得所有圖片在第三方服務的 id\n",
    "    img_url = 'https://imgur.com/{}.jpg'.format(img_id)\n",
    "    print(img_url)\n",
    "    with requests.get(img_url, stream=True) as r:\n",
    "        r.raise_for_status()\n",
    "        img = Image.open(r.raw)\n",
    "        img_savename = '{outdir}/{img_id}.{img_ext}'.format(outdir=output_dir, img_id = img_id, img_ext = img.format.lower())\n",
    "        img.save(img_savename)\n",
    "        print('Save image {}'.format(img_savename))\n",
    "        \n",
    "    # 組合圖片而非網站的網址\n",
    "\n",
    "    # 對圖片送出請求"
   ]
  }
 ],
 "metadata": {
  "kernelspec": {
   "display_name": "Python 3",
   "language": "python",
   "name": "python3"
  },
  "language_info": {
   "codemirror_mode": {
    "name": "ipython",
    "version": 3
   },
   "file_extension": ".py",
   "mimetype": "text/x-python",
   "name": "python",
   "nbconvert_exporter": "python",
   "pygments_lexer": "ipython3",
   "version": "3.7.4"
  }
 },
 "nbformat": 4,
 "nbformat_minor": 2
}
